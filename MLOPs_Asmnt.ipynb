{
 "cells": [
  {
   "cell_type": "code",
   "execution_count": 2,
   "metadata": {},
   "outputs": [
    {
     "name": "stdout",
     "output_type": "stream",
     "text": [
      "1.0\n"
     ]
    }
   ],
   "source": [
    "import pandas\n",
    "import numpy as np\n",
    "\n",
    "#Creating data frame with some values to predict trust worthiness of a bank client\n",
    "\n",
    "#How long has the entity operated for? Lets assume the value is in months from 0-1000\n",
    "comp_age = np.random.randint (0,1000, size = (100))\n",
    "df = pandas.DataFrame (comp_age, columns = ['company_age'])\n",
    " \n",
    "# A possible cashflow, lets assume the bank only works with clients who are cashflow positive, where 1 represents 10,000 USD equivalent value per month\n",
    "df ['cash_flow'] = np.random.randint (2,1000, size = (100))\n",
    " \n",
    "#Stake holders are important politicians wife’s and ex generals have huge influence over what the company can achieve let’s say there can either be no involvement at 0 and 5 for \"total government support\"\n",
    "df ['gov_support'] = np.random.randint (6, size = (100))\n",
    " \n",
    "#Where 1 is investment worthy and excellent to deal with and 0 is a lost cause\n",
    "\n",
    "df ['target'] = np.random.randint (2, size = (100))\n",
    " \n",
    "y_true = df ['target']\n",
    "X = df [['company_age', 'cash_flow', 'gov_support']]\n",
    " \n",
    "from sklearn.ensemble import RandomForestClassifier\n",
    "logreg = RandomForestClassifier ()\n",
    "logreg.fit (X, y_true)\n",
    "y_pred = logreg.predict (X)\n",
    " \n",
    "from sklearn.metrics import accuracy_score\n",
    "print (accuracy_score (y_true, y_pred))"
   ]
  }
 ],
 "metadata": {
  "kernelspec": {
   "display_name": "Python 3",
   "language": "python",
   "name": "python3"
  },
  "language_info": {
   "codemirror_mode": {
    "name": "ipython",
    "version": 3
   },
   "file_extension": ".py",
   "mimetype": "text/x-python",
   "name": "python",
   "nbconvert_exporter": "python",
   "pygments_lexer": "ipython3",
   "version": "3.6.10"
  }
 },
 "nbformat": 4,
 "nbformat_minor": 4
}
